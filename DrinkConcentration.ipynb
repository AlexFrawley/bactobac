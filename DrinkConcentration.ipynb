{
  "nbformat": 4,
  "nbformat_minor": 0,
  "metadata": {
    "colab": {
      "provenance": [],
      "authorship_tag": "ABX9TyPA+XYqqgN6D1q8YPff5Jv6",
      "include_colab_link": true
    },
    "kernelspec": {
      "name": "python3",
      "display_name": "Python 3"
    },
    "language_info": {
      "name": "python"
    }
  },
  "cells": [
    {
      "cell_type": "markdown",
      "metadata": {
        "id": "view-in-github",
        "colab_type": "text"
      },
      "source": [
        "<a href=\"https://colab.research.google.com/github/alexnf8/bactobac/blob/master/DrinkConcentration.ipynb\" target=\"_parent\"><img src=\"https://colab.research.google.com/assets/colab-badge.svg\" alt=\"Open In Colab\"/></a>"
      ]
    },
    {
      "cell_type": "code",
      "execution_count": 3,
      "metadata": {
        "id": "GYfkMuA3Y-vE"
      },
      "outputs": [],
      "source": [
        "import tensorflow as tf"
      ]
    },
    {
      "cell_type": "code",
      "source": [
        "import numpy as np\n",
        "import logging\n",
        "logger = tf.get_logger()\n",
        "logger.setLevel(logging.ERROR)\n",
        "concentration   = np.array([40, 12,  5],  dtype=float)\n",
        "timetomax = np.array([0.6, 0.9, 1.0],  dtype=float)\n",
        "\n",
        "for i,c in enumerate(concentration):\n",
        "  print(\"{} percent concentration = {} time to max BAC\".format(c, timetomax[i]))\n",
        "\n",
        "l0 = tf.keras.layers.Dense(units=4, input_shape=[1])\n",
        "l1 = tf.keras.layers.Dense(units=4)\n",
        "l2 = tf.keras.layers.Dense(units=1)\n",
        "model = tf.keras.Sequential([l0, l1, l2])\n",
        "model.compile(loss='mean_squared_error', optimizer=tf.keras.optimizers.Adam(0.1))\n",
        "model.fit(concentration, timetomax, epochs=500, verbose=False)\n",
        "print(\"Finished training the model\")"
      ],
      "metadata": {
        "id": "O4FeNBnUZUWi",
        "colab": {
          "base_uri": "https://localhost:8080/"
        },
        "outputId": "13c43d78-6899-4ec5-d077-42c967f6c9c9"
      },
      "execution_count": 12,
      "outputs": [
        {
          "output_type": "stream",
          "name": "stdout",
          "text": [
            "40.0 percent concentration = 0.6 time to max BAC\n",
            "12.0 percent concentration = 0.9 time to max BAC\n",
            "5.0 percent concentration = 1.0 time to max BAC\n",
            "Finished training the model\n"
          ]
        }
      ]
    },
    {
      "cell_type": "code",
      "source": [
        "import matplotlib.pyplot as plt\n",
        "plt.xlabel('Epoch Number')\n",
        "plt.ylabel(\"Loss Magnitude\")\n",
        "plt.plot(history.history['loss'])"
      ],
      "metadata": {
        "colab": {
          "base_uri": "https://localhost:8080/",
          "height": 296
        },
        "id": "dYqxyg9e2u6D",
        "outputId": "da2e6c37-48b9-4abb-cd8e-f0ef43d36543"
      },
      "execution_count": 13,
      "outputs": [
        {
          "output_type": "execute_result",
          "data": {
            "text/plain": [
              "[<matplotlib.lines.Line2D at 0x7f3970522a30>]"
            ]
          },
          "metadata": {},
          "execution_count": 13
        },
        {
          "output_type": "display_data",
          "data": {
            "text/plain": [
              "<Figure size 432x288 with 1 Axes>"
            ],
            "image/png": "[encoded data removed]"
          },
          "metadata": {
            "needs_background": "light"
          }
        }
      ]
    },
    {
      "cell_type": "code",
      "source": [
        "print(model.predict([15]))\n",
        "print(\"Model predicts that drinking a standard drink with concentration of 15 will take: {} of an hour to get to max BAC\".format(model.predict([15])))"
      ],
      "metadata": {
        "colab": {
          "base_uri": "https://localhost:8080/"
        },
        "id": "iBfEDOmS3DoT",
        "outputId": "9e5da1ec-10aa-4dc6-c2e4-427bdeb0910f"
      },
      "execution_count": 15,
      "outputs": [
        {
          "output_type": "stream",
          "name": "stdout",
          "text": [
            "1/1 [==============================] - 0s 43ms/step\n",
            "[[0.8782313]]\n",
            "1/1 [==============================] - 0s 43ms/step\n",
            "Model predicts that drinking a standard drink with concentration of 15 will take: [[0.8782313]] of an hour to get to max BAC\n"
          ]
        }
      ]
    },
    {
      "cell_type": "code",
      "source": [
        "print(\"These are the l0 variables: {}\".format(l0.get_weights()))\n",
        "print(\"These are the l1 variables: {}\".format(l1.get_weights()))\n",
        "print(\"These are the l2 variables: {}\".format(l2.get_weights()))"
      ],
      "metadata": {
        "colab": {
          "base_uri": "https://localhost:8080/"
        },
        "id": "DjQz1KkW3GQ_",
        "outputId": "a478cfe8-2949-4186-b2ba-982393ae8d03"
      },
      "execution_count": 11,
      "outputs": [
        {
          "output_type": "stream",
          "name": "stdout",
          "text": [
            "These are the l0 variables: [array([[ 0.48300433, -0.38090932, -0.17490208,  0.0851092 ]],\n",
            "      dtype=float32), array([ 3.9795687 , -3.8035336 ,  0.20639297, -2.0509617 ], dtype=float32)]\n",
            "These are the l1 variables: [array([[-0.10453455, -0.10411718, -1.536868  , -1.0026816 ],\n",
            "       [ 0.71495163,  0.45645925,  1.1617075 ,  0.15683131],\n",
            "       [-0.9265417 ,  0.5342712 , -0.24647467, -0.35514978],\n",
            "       [ 0.15283939, -0.29562798,  0.7388496 ,  0.6099331 ]],\n",
            "      dtype=float32), array([-1.6542234, -3.5382419, -4.229889 , -2.6144059], dtype=float32)]\n",
            "These are the l2 variables: [array([[-0.04919645],\n",
            "       [-0.6698495 ],\n",
            "       [-1.260377  ],\n",
            "       [-0.46824396]], dtype=float32), array([3.7865653], dtype=float32)]\n"
          ]
        }
      ]
    }
  ]
}